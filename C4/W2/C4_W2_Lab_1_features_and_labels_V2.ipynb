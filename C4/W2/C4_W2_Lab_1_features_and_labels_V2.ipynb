{
  "nbformat": 4,
  "nbformat_minor": 0,
  "metadata": {
    "colab": {
      "name": "C4_W2_Lab_1_features_and_labels_V2.ipynb",
      "provenance": [],
      "collapsed_sections": [],
      "authorship_tag": "ABX9TyNwXySncnu9k0pBPS75PlAx",
      "include_colab_link": true
    },
    "kernelspec": {
      "name": "python3",
      "display_name": "Python 3"
    },
    "language_info": {
      "name": "python"
    }
  },
  "cells": [
    {
      "cell_type": "markdown",
      "metadata": {
        "id": "view-in-github",
        "colab_type": "text"
      },
      "source": [
        "<a href=\"https://colab.research.google.com/github/saurater/TensorFlow-Developer-Certificate/blob/main/C4_W2_Lab_1_features_and_labels_V2.ipynb\" target=\"_parent\"><img src=\"https://colab.research.google.com/assets/colab-badge.svg\" alt=\"Open In Colab\"/></a>"
      ]
    },
    {
      "cell_type": "code",
      "execution_count": 1,
      "metadata": {
        "id": "nopfs8U2S6Ng"
      },
      "outputs": [],
      "source": [
        "import tensorflow as tf"
      ]
    },
    {
      "cell_type": "code",
      "source": [
        "dataset =  tf.data.Dataset.range(10)"
      ],
      "metadata": {
        "id": "TC-FRvHoTDJK"
      },
      "execution_count": 2,
      "outputs": []
    },
    {
      "cell_type": "code",
      "source": [
        "for val in dataset:\n",
        "  print(val.numpy())"
      ],
      "metadata": {
        "colab": {
          "base_uri": "https://localhost:8080/"
        },
        "id": "4ndJskwjTGwF",
        "outputId": "92b86d54-7822-4709-cbcf-8a1c4808988b"
      },
      "execution_count": 8,
      "outputs": [
        {
          "output_type": "stream",
          "name": "stdout",
          "text": [
            "0\n",
            "1\n",
            "2\n",
            "3\n",
            "4\n",
            "5\n",
            "6\n",
            "7\n",
            "8\n",
            "9\n"
          ]
        }
      ]
    },
    {
      "cell_type": "code",
      "source": [
        "dataset = tf.data.Dataset.range(10)"
      ],
      "metadata": {
        "id": "S-ojSmLHTLYj"
      },
      "execution_count": 9,
      "outputs": []
    },
    {
      "cell_type": "code",
      "source": [
        "dataset = dataset.window(size=5,shift = 1)"
      ],
      "metadata": {
        "id": "wZJjM8GRUWVd"
      },
      "execution_count": 11,
      "outputs": []
    },
    {
      "cell_type": "code",
      "source": [
        "for window_dataset in dataset:\n",
        "  print(window_dataset)"
      ],
      "metadata": {
        "colab": {
          "base_uri": "https://localhost:8080/"
        },
        "id": "lcnAvnTtUE78",
        "outputId": "f776f4d0-9b7f-4b9c-80f8-9b84624457d1"
      },
      "execution_count": 12,
      "outputs": [
        {
          "output_type": "stream",
          "name": "stdout",
          "text": [
            "<_VariantDataset element_spec=TensorSpec(shape=(), dtype=tf.int64, name=None)>\n",
            "<_VariantDataset element_spec=TensorSpec(shape=(), dtype=tf.int64, name=None)>\n",
            "<_VariantDataset element_spec=TensorSpec(shape=(), dtype=tf.int64, name=None)>\n",
            "<_VariantDataset element_spec=TensorSpec(shape=(), dtype=tf.int64, name=None)>\n",
            "<_VariantDataset element_spec=TensorSpec(shape=(), dtype=tf.int64, name=None)>\n",
            "<_VariantDataset element_spec=TensorSpec(shape=(), dtype=tf.int64, name=None)>\n",
            "<_VariantDataset element_spec=TensorSpec(shape=(), dtype=tf.int64, name=None)>\n",
            "<_VariantDataset element_spec=TensorSpec(shape=(), dtype=tf.int64, name=None)>\n",
            "<_VariantDataset element_spec=TensorSpec(shape=(), dtype=tf.int64, name=None)>\n",
            "<_VariantDataset element_spec=TensorSpec(shape=(), dtype=tf.int64, name=None)>\n"
          ]
        }
      ]
    },
    {
      "cell_type": "code",
      "source": [
        "for window_dataset in dataset:\n",
        "  print([item.numpy() for item in window_dataset])"
      ],
      "metadata": {
        "colab": {
          "base_uri": "https://localhost:8080/"
        },
        "id": "VS4Ifm4lUMkU",
        "outputId": "3ec5151b-d7df-4e47-8527-b940ef326ad6"
      },
      "execution_count": 14,
      "outputs": [
        {
          "output_type": "stream",
          "name": "stdout",
          "text": [
            "[0, 1, 2, 3, 4]\n",
            "[1, 2, 3, 4, 5]\n",
            "[2, 3, 4, 5, 6]\n",
            "[3, 4, 5, 6, 7]\n",
            "[4, 5, 6, 7, 8]\n",
            "[5, 6, 7, 8, 9]\n",
            "[6, 7, 8, 9]\n",
            "[7, 8, 9]\n",
            "[8, 9]\n",
            "[9]\n"
          ]
        }
      ]
    },
    {
      "cell_type": "code",
      "source": [
        "dataset =  tf.data.Dataset.range(10)\n",
        "\n",
        "dataset =  dataset.window(size = 5, shift =1, drop_remainder = True)\n",
        "\n",
        "for window_dataset in dataset:\n",
        "  print([item.numpy() for item in window_dataset])"
      ],
      "metadata": {
        "colab": {
          "base_uri": "https://localhost:8080/"
        },
        "id": "DConR4k2UrRw",
        "outputId": "d10ee1cc-d217-4898-b315-a77293a10547"
      },
      "execution_count": 22,
      "outputs": [
        {
          "output_type": "stream",
          "name": "stdout",
          "text": [
            "[0, 1, 2, 3, 4]\n",
            "[1, 2, 3, 4, 5]\n",
            "[2, 3, 4, 5, 6]\n",
            "[3, 4, 5, 6, 7]\n",
            "[4, 5, 6, 7, 8]\n",
            "[5, 6, 7, 8, 9]\n"
          ]
        }
      ]
    },
    {
      "cell_type": "code",
      "source": [
        "type(dataset)"
      ],
      "metadata": {
        "colab": {
          "base_uri": "https://localhost:8080/"
        },
        "id": "UQ8a3kP-WGGb",
        "outputId": "39d51aeb-e468-49a0-e901-dd488dc098c9"
      },
      "execution_count": 24,
      "outputs": [
        {
          "output_type": "execute_result",
          "data": {
            "text/plain": [
              "tensorflow.python.data.ops.dataset_ops.WindowDataset"
            ]
          },
          "metadata": {},
          "execution_count": 24
        }
      ]
    },
    {
      "cell_type": "code",
      "source": [
        "dataset = tf.data.Dataset.range(10)\n",
        "\n",
        "dataset = dataset.window(size =5, shift =1, drop_remainder = True)\n",
        "\n",
        "dataset = dataset.flat_map(lambda window : window.batch(5))"
      ],
      "metadata": {
        "id": "xDxLtQYxWLXw"
      },
      "execution_count": 50,
      "outputs": []
    },
    {
      "cell_type": "code",
      "source": [
        "for window_dataset in dataset:\n",
        "  print([item.numpy() for item in window_dataset])"
      ],
      "metadata": {
        "colab": {
          "base_uri": "https://localhost:8080/"
        },
        "id": "uvCAXg8Sdyet",
        "outputId": "7fc18544-b24b-4453-9870-2f8e7544743d"
      },
      "execution_count": 51,
      "outputs": [
        {
          "output_type": "stream",
          "name": "stdout",
          "text": [
            "[0, 1, 2, 3, 4]\n",
            "[1, 2, 3, 4, 5]\n",
            "[2, 3, 4, 5, 6]\n",
            "[3, 4, 5, 6, 7]\n",
            "[4, 5, 6, 7, 8]\n",
            "[5, 6, 7, 8, 9]\n"
          ]
        }
      ]
    },
    {
      "cell_type": "code",
      "source": [
        "dataset = dataset.map(lambda window: (window[:-1], window[-1]))"
      ],
      "metadata": {
        "id": "z35JplP6eJ0j"
      },
      "execution_count": 52,
      "outputs": []
    },
    {
      "cell_type": "code",
      "source": [
        "for x,y in dataset:\n",
        "  print(\"x = \", x.numpy())\n",
        "  print(\"y = \", y.numpy())\n",
        "  print()"
      ],
      "metadata": {
        "colab": {
          "base_uri": "https://localhost:8080/"
        },
        "id": "FsZrTH8RecYp",
        "outputId": "773858e1-017c-4fa5-9206-8fa983fdcd97"
      },
      "execution_count": 53,
      "outputs": [
        {
          "output_type": "stream",
          "name": "stdout",
          "text": [
            "x =  [0 1 2 3]\n",
            "y =  4\n",
            "\n",
            "x =  [1 2 3 4]\n",
            "y =  5\n",
            "\n",
            "x =  [2 3 4 5]\n",
            "y =  6\n",
            "\n",
            "x =  [3 4 5 6]\n",
            "y =  7\n",
            "\n",
            "x =  [4 5 6 7]\n",
            "y =  8\n",
            "\n",
            "x =  [5 6 7 8]\n",
            "y =  9\n",
            "\n"
          ]
        }
      ]
    },
    {
      "cell_type": "code",
      "source": [
        "dataset =  tf.data.Dataset.range(10)\n",
        "\n",
        "dataset = dataset.window(size = 5, shift =1, drop_remainder = True)\n",
        "\n",
        "dataset = dataset.flat_map(lambda window : window.batch(5))\n",
        "\n",
        "dataset = dataset.map(lambda window : (window[:-1], window[-1] ))\n",
        "\n",
        "dataset =  dataset.shuffle(buffer_size = 10)\n",
        "\n",
        "for x,y in dataset:\n",
        "  print(\"x = \", x.numpy())\n",
        "  print(\"y = \", y.numpy())\n",
        "  print()\n"
      ],
      "metadata": {
        "colab": {
          "base_uri": "https://localhost:8080/"
        },
        "id": "gx_bPjsce-w_",
        "outputId": "da5b4ef3-37f2-4f04-c980-069c4d3aa1b6"
      },
      "execution_count": 69,
      "outputs": [
        {
          "output_type": "stream",
          "name": "stdout",
          "text": [
            "x =  [5 6 7 8]\n",
            "y =  9\n",
            "\n",
            "x =  [0 1 2 3]\n",
            "y =  4\n",
            "\n",
            "x =  [3 4 5 6]\n",
            "y =  7\n",
            "\n",
            "x =  [1 2 3 4]\n",
            "y =  5\n",
            "\n",
            "x =  [4 5 6 7]\n",
            "y =  8\n",
            "\n",
            "x =  [2 3 4 5]\n",
            "y =  6\n",
            "\n"
          ]
        }
      ]
    },
    {
      "cell_type": "code",
      "source": [
        "dataset =  tf.data.Dataset.range(10)\n",
        "\n",
        "dataset = dataset.window(size = 5, shift =1, drop_remainder = True)\n",
        "\n",
        "dataset =  dataset.flat_map(lambda window : window.batch(5))\n",
        "\n",
        "dataset = dataset.map(lambda window : (window[:-1], window[-1]))\n",
        "\n",
        "datset = dataset.shuffle(buffer_size=10)\n",
        "\n",
        "dataset = datset.batch(2).prefetch(1)\n",
        "\n",
        "for x,y in dataset:\n",
        "  print(\"x = \", x.numpy())\n",
        "  print(\"y = \", y.numpy())\n",
        "  print()"
      ],
      "metadata": {
        "colab": {
          "base_uri": "https://localhost:8080/"
        },
        "id": "0tQR1GKrfraY",
        "outputId": "8e83e1df-4417-46ed-a306-ebee2ae44405"
      },
      "execution_count": 78,
      "outputs": [
        {
          "output_type": "stream",
          "name": "stdout",
          "text": [
            "x =  [[3 4 5 6]\n",
            " [1 2 3 4]]\n",
            "y =  [7 5]\n",
            "\n",
            "x =  [[0 1 2 3]\n",
            " [5 6 7 8]]\n",
            "y =  [4 9]\n",
            "\n",
            "x =  [[4 5 6 7]\n",
            " [2 3 4 5]]\n",
            "y =  [8 6]\n",
            "\n"
          ]
        }
      ]
    },
    {
      "cell_type": "code",
      "source": [
        ""
      ],
      "metadata": {
        "id": "FCzIuJ9vkHh2"
      },
      "execution_count": null,
      "outputs": []
    }
  ]
}
